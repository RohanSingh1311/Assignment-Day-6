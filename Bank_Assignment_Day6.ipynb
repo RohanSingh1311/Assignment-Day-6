{
  "nbformat": 4,
  "nbformat_minor": 0,
  "metadata": {
    "colab": {
      "name": "Bank Assignment Day6.ipynb",
      "provenance": [],
      "collapsed_sections": []
    },
    "kernelspec": {
      "name": "python3",
      "display_name": "Python 3"
    }
  },
  "cells": [
    {
      "cell_type": "code",
      "metadata": {
        "id": "YVc3JSzAXFDG",
        "colab_type": "code",
        "colab": {}
      },
      "source": [
        "# Python program to create Bankaccount class \n",
        "# with both a deposit() and a withdraw() function \n",
        "class Bank_Account:\n",
        "\n",
        "  def __init__(self):\n",
        "    name=str=(input(\"Enter Your Name:\"))\n",
        "    account1=int(input(\"Enter your account number:\"))\n",
        "    self.name= name\n",
        "    self.account1 = account1\n",
        "    self.balance=0\n",
        "    print(\"Hello!!!\",name, \"Welcome to the Deposit & Withdrawal Machine\",\"\\nyour account number is: \",account1)\n",
        "\n",
        "\n",
        "#deposite code\n",
        "  def deposit(self):\n",
        "    amount=float(input(\"Enter amount to be Deposited: \"))\n",
        "    self.balance += amount\n",
        "    print(\"\\n Amount Deposited:\",amount)\n",
        "  \n",
        "  #withdraw code\n",
        "  def withdraw(self):\n",
        "    amount = float(input(\"Enter amount to be Withdrawn: \")) \n",
        "    if self.balance>=amount:\n",
        "      self.balance-=amount \n",
        "      print(\"\\n You Withdrew:\", amount) \n",
        "    else:\n",
        "      print(\"\\n Insufficient balance  \")\n",
        "      \n",
        " #balance code     \n",
        "  def disp(self):\n",
        "    print(\"\\nYour Account Balance is:\",self.balance)\n",
        "   \n",
        "\n",
        "\n",
        "\n",
        "\n"
      ],
      "execution_count": 62,
      "outputs": []
    },
    {
      "cell_type": "code",
      "metadata": {
        "id": "Hkm0q9NIXNi8",
        "colab_type": "code",
        "colab": {}
      },
      "source": [
        "# Driver code \n",
        "\n",
        "def rtime_machine():\n",
        "  s = Bank_Account() \n",
        "  s.deposit()\n",
        "  s.withdraw()\n",
        "  s.disp()"
      ],
      "execution_count": 60,
      "outputs": []
    },
    {
      "cell_type": "code",
      "metadata": {
        "id": "u2agP4OfcYRf",
        "colab_type": "code",
        "colab": {
          "base_uri": "https://localhost:8080/",
          "height": 221
        },
        "outputId": "5655179d-b49f-4f23-8ce3-d7923b1f56c1"
      },
      "source": [
        "#to_run_program\n",
        "rtime_machine()\n"
      ],
      "execution_count": 61,
      "outputs": [
        {
          "output_type": "stream",
          "text": [
            "Enter Your Name:gfuybugb\n",
            "Enter your account number:513135\n",
            "Hello!!! gfuybugb Welcome to the Deposit & Withdrawal Machine \n",
            "your account number is:  513135\n",
            "Enter amount to be Deposited: 1534354\n",
            "\n",
            " Amount Deposited: 1534354.0\n",
            "Enter amount to be Withdrawn: 444441\n",
            "\n",
            " You Withdrew: 444441.0\n",
            "\n",
            "Your Account Balance is: 1089913.0\n"
          ],
          "name": "stdout"
        }
      ]
    }
  ]
}